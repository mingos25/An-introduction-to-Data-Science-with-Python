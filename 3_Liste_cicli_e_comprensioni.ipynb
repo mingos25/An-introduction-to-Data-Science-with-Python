{
 "cells": [
  {
   "cell_type": "markdown",
   "metadata": {
    "pycharm": {
     "name": "#%% md\n"
    }
   },
   "source": [
    "*Contenuti*\n",
    "===\n",
    "- [Liste](#Liste)\n",
    "    - [Dimensione e accesso indicizzato](#Dimensione-e-accesso-indicizzato)\n",
    "    - [Lista vuota, aggiunta, inserimento, modifica e cancellazione](#Lista-vuota,-aggiunta,-inserimento,-modifica-e-cancellazione)\n",
    "    - [Estrazione](#Estrazione)\n",
    "        - [*Esercizio 1*](#Esercizio-1)\n",
    "    - [Ricerca](#Ricerca)\n",
    "    - [Ordinamento](#Ordinamento)\n",
    "    - [Operatori aggregati](#Operatori-aggregati)\n",
    "        - [*Esercizio 2*](#Esercizio-2)\n",
    "    - [Liste di tipo misto](#Liste-di-tipo-misto)\n",
    "    - [*Slicing*](#Slicing)\n",
    "    - [*Esercizio 3*](#Esercizio-3)\n",
    "- [Cicli *for*](#Cicli-for)\n",
    "    - [Enumerazione](#Enumerazione)\n",
    "    - [*Esercizio 4*](#Esercizio-4)\n",
    "    - [Comprensioni di liste](#Comprensioni-di-liste)\n",
    "    - [*Esercizio 5*](#Esercizio-5)\n",
    "    - [*Esercizio 6*](#Esercizio-6)"
   ]
  },
  {
   "cell_type": "markdown",
   "metadata": {
    "pycharm": {
     "name": "#%% md\n"
    }
   },
   "source": [
    "Liste\n",
    "===\n",
    "Una *lista* è una collezione ordinata di oggetti, contenuta in una variabile."
   ]
  },
  {
   "cell_type": "code",
   "execution_count": 35,
   "metadata": {
    "pycharm": {
     "name": "#%%\n"
    }
   },
   "outputs": [
    {
     "name": "stdout",
     "output_type": "stream",
     "text": [
      "<class 'list'>\n",
      "['triangle', 'square', 'pentagon']\n"
     ]
    }
   ],
   "source": [
    "shapes = ['triangle', 'square', 'pentagon']\n",
    "print(type(shapes))\n",
    "print(shapes)"
   ]
  },
  {
   "cell_type": "markdown",
   "metadata": {
    "pycharm": {
     "name": "#%% md\n"
    }
   },
   "source": [
    "Dimensione e accesso indicizzato\n",
    "---\n",
    "La *dimensione* di una lista si ottiene attraverso la funzione *len* (da *length*, lunghezza in inglese)."
   ]
  },
  {
   "cell_type": "code",
   "execution_count": 36,
   "metadata": {
    "pycharm": {
     "name": "#%%\n"
    }
   },
   "outputs": [
    {
     "data": {
      "text/plain": [
       "3"
      ]
     },
     "execution_count": 36,
     "metadata": {},
     "output_type": "execute_result"
    }
   ],
   "source": [
    "len(shapes)"
   ]
  },
  {
   "cell_type": "markdown",
   "metadata": {
    "pycharm": {
     "name": "#%% md\n"
    }
   },
   "source": [
    "Si può accedere ad una lista attraverso un indice intero: la prima posizione ha indice 0, l'ultima len-1."
   ]
  },
  {
   "cell_type": "code",
   "execution_count": 37,
   "metadata": {
    "pycharm": {
     "name": "#%%\n"
    }
   },
   "outputs": [
    {
     "name": "stdout",
     "output_type": "stream",
     "text": [
      "triangle\n",
      "square\n",
      "pentagon\n"
     ]
    }
   ],
   "source": [
    "print(shapes[0])\n",
    "print(shapes[1])\n",
    "print(shapes[len(shapes)-1])"
   ]
  },
  {
   "cell_type": "markdown",
   "metadata": {
    "pycharm": {
     "name": "#%% md\n"
    }
   },
   "source": [
    "Le liste Python sono *circolari*: si possono usare indici negativi per accedere comodamente agli ultimi elementi."
   ]
  },
  {
   "cell_type": "code",
   "execution_count": 38,
   "metadata": {
    "pycharm": {
     "name": "#%%\n"
    }
   },
   "outputs": [
    {
     "name": "stdout",
     "output_type": "stream",
     "text": [
      "pentagon\n",
      "square\n"
     ]
    }
   ],
   "source": [
    "print(shapes[-1])#ultimo\n",
    "print(shapes[-2])#penultimo"
   ]
  },
  {
   "cell_type": "markdown",
   "metadata": {
    "pycharm": {
     "name": "#%% md\n"
    }
   },
   "source": [
    "Lista vuota, aggiunta, inserimento, modifica e cancellazione\n",
    "---\n",
    "Si può creare una lista vuota e aggiungervi elementi successivamente."
   ]
  },
  {
   "cell_type": "code",
   "execution_count": 2,
   "metadata": {
    "pycharm": {
     "name": "#%%\n"
    }
   },
   "outputs": [
    {
     "data": {
      "text/plain": [
       "[]"
      ]
     },
     "execution_count": 2,
     "metadata": {},
     "output_type": "execute_result"
    }
   ],
   "source": [
    "shapes = []#lista vuota\n",
    "\n",
    "shapes"
   ]
  },
  {
   "cell_type": "markdown",
   "metadata": {
    "pycharm": {
     "name": "#%% md\n"
    }
   },
   "source": [
    "Quando ha a che fare con liste, Python interpreta l'operatore + come una *concatenazione*."
   ]
  },
  {
   "cell_type": "code",
   "execution_count": 3,
   "metadata": {
    "pycharm": {
     "name": "#%%\n"
    }
   },
   "outputs": [
    {
     "data": {
      "text/plain": [
       "['triangle', 'square']"
      ]
     },
     "execution_count": 3,
     "metadata": {},
     "output_type": "execute_result"
    }
   ],
   "source": [
    "shapes = shapes + ['triangle', 'square']\n",
    "\n",
    "shapes"
   ]
  },
  {
   "cell_type": "code",
   "execution_count": 4,
   "metadata": {
    "pycharm": {
     "name": "#%%\n"
    }
   },
   "outputs": [
    {
     "data": {
      "text/plain": [
       "['triangle', 'square', 'pentagon']"
      ]
     },
     "execution_count": 4,
     "metadata": {},
     "output_type": "execute_result"
    }
   ],
   "source": [
    "shapes = shapes + ['pentagon']\n",
    "\n",
    "shapes"
   ]
  },
  {
   "cell_type": "markdown",
   "metadata": {
    "pycharm": {
     "name": "#%% md\n"
    }
   },
   "source": [
    "**Nota**: l'aggiunta di un unico elemento ad una lista è un caso particolare della concatenazione. Servono quindi le parentesi quadre: stiamo infatti concatenando una lista ad un'altra che contiene solo un elemento."
   ]
  },
  {
   "cell_type": "markdown",
   "metadata": {
    "pycharm": {
     "name": "#%% md\n"
    }
   },
   "source": [
    "La concatenazione (in generale l'operazione generica +) può essere eseguita in modo compatto. "
   ]
  },
  {
   "cell_type": "code",
   "execution_count": 4,
   "metadata": {
    "pycharm": {
     "name": "#%%\n"
    }
   },
   "outputs": [
    {
     "data": {
      "text/plain": [
       "5"
      ]
     },
     "execution_count": 4,
     "metadata": {},
     "output_type": "execute_result"
    }
   ],
   "source": [
    "a = 0\n",
    "a += 5#forma compatta per 'a = a + 5'\n",
    "\n",
    "a"
   ]
  },
  {
   "cell_type": "code",
   "execution_count": 5,
   "metadata": {
    "pycharm": {
     "name": "#%%\n"
    }
   },
   "outputs": [
    {
     "data": {
      "text/plain": [
       "'ciao mamma!'"
      ]
     },
     "execution_count": 5,
     "metadata": {},
     "output_type": "execute_result"
    }
   ],
   "source": [
    "b = 'ciao'\n",
    "b += ' mamma!'#concatenazione compatta di stringhe\n",
    "\n",
    "b"
   ]
  },
  {
   "cell_type": "code",
   "execution_count": 5,
   "metadata": {
    "pycharm": {
     "name": "#%%\n"
    }
   },
   "outputs": [
    {
     "data": {
      "text/plain": [
       "['triangle', 'square', 'pentagon', 'hexagon']"
      ]
     },
     "execution_count": 5,
     "metadata": {},
     "output_type": "execute_result"
    }
   ],
   "source": [
    "shapes += ['hexagon']#concatenazione compatta di liste\n",
    "\n",
    "shapes"
   ]
  },
  {
   "cell_type": "markdown",
   "metadata": {
    "pycharm": {
     "name": "#%% md\n"
    }
   },
   "source": [
    "Si possono inserire elementi in una posizione specifica della lista. Tutti quelli successivi saranno spostati sulla destra, e la dimensione della lista aumenterà di 1."
   ]
  },
  {
   "cell_type": "code",
   "execution_count": 6,
   "metadata": {
    "pycharm": {
     "name": "#%%\n"
    }
   },
   "outputs": [
    {
     "data": {
      "text/plain": [
       "['triangle', 'square', 'rectangle', 'pentagon', 'hexagon']"
      ]
     },
     "execution_count": 6,
     "metadata": {},
     "output_type": "execute_result"
    }
   ],
   "source": [
    "shapes.insert(2, 'rectangle')#inserimento in posizione 2\n",
    "\n",
    "shapes"
   ]
  },
  {
   "cell_type": "markdown",
   "metadata": {
    "pycharm": {
     "name": "#%% md\n"
    }
   },
   "source": [
    "Gli elementi di una lista possono essere modificati in qualsiasi momento."
   ]
  },
  {
   "cell_type": "code",
   "execution_count": 7,
   "metadata": {
    "pycharm": {
     "name": "#%%\n"
    }
   },
   "outputs": [
    {
     "data": {
      "text/plain": [
       "['circle', 'square', 'rectangle', 'pentagon', 'hexagon']"
      ]
     },
     "execution_count": 7,
     "metadata": {},
     "output_type": "execute_result"
    }
   ],
   "source": [
    "shapes[0] = 'circle'#modifica\n",
    "\n",
    "shapes"
   ]
  },
  {
   "cell_type": "markdown",
   "metadata": {
    "pycharm": {
     "name": "#%% md\n"
    }
   },
   "source": [
    "Per cancellare un elemento della lista si usa la funzione *remove*."
   ]
  },
  {
   "cell_type": "code",
   "execution_count": 8,
   "metadata": {
    "pycharm": {
     "name": "#%%\n"
    }
   },
   "outputs": [
    {
     "data": {
      "text/plain": [
       "['circle', 'square', 'rectangle', 'pentagon']"
      ]
     },
     "execution_count": 8,
     "metadata": {},
     "output_type": "execute_result"
    }
   ],
   "source": [
    "shapes.remove('hexagon')#rimozione\n",
    "\n",
    "shapes"
   ]
  },
  {
   "cell_type": "markdown",
   "metadata": {
    "pycharm": {
     "name": "#%% md\n"
    }
   },
   "source": [
    "Estrazione\n",
    "---\n",
    "La funzione *pop* estrae un elemento da una lista (di default, l'ultimo), e lo restituisce."
   ]
  },
  {
   "cell_type": "code",
   "execution_count": 9,
   "metadata": {
    "pycharm": {
     "name": "#%%\n"
    }
   },
   "outputs": [
    {
     "name": "stdout",
     "output_type": "stream",
     "text": [
      "['circle', 'square', 'rectangle']\n",
      "Ultimo elemento: pentagon\n"
     ]
    }
   ],
   "source": [
    "last_element = shapes.pop()\n",
    "print(shapes)\n",
    "print('Ultimo elemento:', last_element)"
   ]
  },
  {
   "cell_type": "markdown",
   "metadata": {
    "pycharm": {
     "name": "#%% md\n"
    }
   },
   "source": [
    "### *Esercizio 1* \n",
    "\n",
    "Che differenza c'è (oltre al diverso tipo su cui sono definite) tra le funzioni viste finora (come upper, lower, replace del tipo stringa) e insert, remove e pop?"
   ]
  },
  {
   "cell_type": "markdown",
   "metadata": {
    "pycharm": {
     "name": "#%% md\n"
    }
   },
   "source": [
    "Ricerca\n",
    "---\n",
    "Possiamo controllare se un certo oggetto è contenuto in una lista."
   ]
  },
  {
   "cell_type": "code",
   "execution_count": 10,
   "metadata": {
    "pycharm": {
     "name": "#%%\n"
    }
   },
   "outputs": [
    {
     "data": {
      "text/plain": [
       "True"
      ]
     },
     "execution_count": 10,
     "metadata": {},
     "output_type": "execute_result"
    }
   ],
   "source": [
    "'square' in shapes"
   ]
  },
  {
   "cell_type": "code",
   "execution_count": 11,
   "metadata": {
    "pycharm": {
     "name": "#%%\n"
    }
   },
   "outputs": [
    {
     "data": {
      "text/plain": [
       "False"
      ]
     },
     "execution_count": 11,
     "metadata": {},
     "output_type": "execute_result"
    }
   ],
   "source": [
    "'triangle' in shapes"
   ]
  },
  {
   "cell_type": "markdown",
   "metadata": {
    "pycharm": {
     "name": "#%% md\n"
    }
   },
   "source": [
    "Ordinamento\n",
    "---\n",
    "Una lista può essere ordinata attraverso la funzione *sorted*. Anche in questo caso, è Python che interpreta un'operazione in modo dinamico (quale?) in base al tipo di variabili contenute nella lista. Nel caso delle stringhe, l'ordinamento sarà alfabetico."
   ]
  },
  {
   "cell_type": "code",
   "execution_count": 12,
   "metadata": {
    "pycharm": {
     "name": "#%%\n"
    }
   },
   "outputs": [
    {
     "data": {
      "text/plain": [
       "['circle', 'hexagon', 'square', 'triangle']"
      ]
     },
     "execution_count": 12,
     "metadata": {},
     "output_type": "execute_result"
    }
   ],
   "source": [
    "shapes = ['triangle', 'square', 'circle', 'hexagon']\n",
    "\n",
    "sorted(shapes)"
   ]
  },
  {
   "cell_type": "markdown",
   "metadata": {
    "pycharm": {
     "name": "#%% md\n"
    }
   },
   "source": [
    "La funzione sorted crea (e restituisce) una nuova lista: se ne alteriamo gli elementi, non otteniamo effetti su quella di partenza."
   ]
  },
  {
   "cell_type": "code",
   "execution_count": 4,
   "metadata": {
    "pycharm": {
     "name": "#%%\n"
    }
   },
   "outputs": [
    {
     "name": "stdout",
     "output_type": "stream",
     "text": [
      "lista ordinata: ['circle', 'hexagon', 'square', 'triangle']\n"
     ]
    }
   ],
   "source": [
    "sorted_shapes = sorted(shapes)#assegno risultato ad una variabile\n",
    "print('lista ordinata:', sorted_shapes)"
   ]
  },
  {
   "cell_type": "code",
   "execution_count": 5,
   "metadata": {
    "pycharm": {
     "name": "#%%\n"
    }
   },
   "outputs": [
    {
     "name": "stdout",
     "output_type": "stream",
     "text": [
      "lista ordinata modificata: ['rhombus', 'hexagon', 'square', 'triangle']\n"
     ]
    }
   ],
   "source": [
    "sorted_shapes[0] = 'rhombus'#modifica\n",
    "print('lista ordinata modificata:', sorted_shapes)"
   ]
  },
  {
   "cell_type": "code",
   "execution_count": 7,
   "metadata": {
    "pycharm": {
     "name": "#%%\n"
    }
   },
   "outputs": [
    {
     "name": "stdout",
     "output_type": "stream",
     "text": [
      "lista originale: ['triangle', 'square', 'circle', 'hexagon']\n"
     ]
    }
   ],
   "source": [
    "print('lista originale:', shapes)"
   ]
  },
  {
   "cell_type": "markdown",
   "metadata": {
    "pycharm": {
     "name": "#%% md\n"
    }
   },
   "source": [
    "Quanto detto vale anche per le liste numeriche. Per convenzione, l'ordinamento è crescente."
   ]
  },
  {
   "cell_type": "code",
   "execution_count": 18,
   "metadata": {
    "pycharm": {
     "name": "#%%\n"
    }
   },
   "outputs": [
    {
     "data": {
      "text/plain": [
       "[1, 3, 5, 6, 7, 8]"
      ]
     },
     "execution_count": 18,
     "metadata": {},
     "output_type": "execute_result"
    }
   ],
   "source": [
    "numbers = [3,6,1,7,8,5]\n",
    "\n",
    "sorted(numbers)"
   ]
  },
  {
   "cell_type": "markdown",
   "metadata": {
    "pycharm": {
     "name": "#%% md\n"
    }
   },
   "source": [
    "La funzione sorted permette l'ordinamento inverso, attraverso l'argomento *reverse*. Si tratta di un *argomento opzionale*: se non viene valorizzato (con '='), la funzione utilizza un valore di default (in questo caso, *False*).\n",
    "\n",
    "Se non si specifica diversamente, l'ordinamento sarà quindi quello naturale (dalla A alla Z per le stringhe, crescente per i numeri).\n",
    "\n",
    "Vedremo a breve il significato di True e False."
   ]
  },
  {
   "cell_type": "code",
   "execution_count": 20,
   "metadata": {
    "pycharm": {
     "name": "#%%\n"
    }
   },
   "outputs": [
    {
     "data": {
      "text/plain": [
       "[8, 7, 6, 5, 3, 1]"
      ]
     },
     "execution_count": 20,
     "metadata": {},
     "output_type": "execute_result"
    }
   ],
   "source": [
    "numbers = [3,6,1,7,8,5]\n",
    "\n",
    "sorted(numbers, reverse=True)#argomento opzionale"
   ]
  },
  {
   "cell_type": "markdown",
   "metadata": {
    "pycharm": {
     "name": "#%% md\n"
    }
   },
   "source": [
    "Operatori aggregati\n",
    "---\n",
    "E' possibile fare operazioni che coinvolgono tutti gli oggetti contenuti in una lista. Per quanto riguarda le liste numeriche, ad esempio, possiamo calcolare minimo, massimo e somma."
   ]
  },
  {
   "cell_type": "code",
   "execution_count": 1,
   "metadata": {
    "pycharm": {
     "name": "#%%\n"
    }
   },
   "outputs": [
    {
     "name": "stdout",
     "output_type": "stream",
     "text": [
      "voto minimo: 22\n",
      "voto massimo: 30\n"
     ]
    }
   ],
   "source": [
    "grades = [28, 25, 22, 30, 30, 28, 26]\n",
    "print('voto minimo:', min(grades))\n",
    "print('voto massimo:', max(grades))"
   ]
  },
  {
   "cell_type": "markdown",
   "metadata": {
    "pycharm": {
     "name": "#%% md\n"
    }
   },
   "source": [
    "### *Esercizio 2* \n",
    "\n",
    "Stampare il voto medio col formato qui sopra, usando (anche) la funzione *sum*."
   ]
  },
  {
   "cell_type": "code",
   "execution_count": 2,
   "metadata": {
    "pycharm": {
     "name": "#%%\n"
    }
   },
   "outputs": [
    {
     "data": {
      "text/plain": [
       "15"
      ]
     },
     "execution_count": 2,
     "metadata": {},
     "output_type": "execute_result"
    }
   ],
   "source": [
    "#FILL ME\n",
    "sum([10, 5])"
   ]
  },
  {
   "cell_type": "markdown",
   "metadata": {
    "pycharm": {
     "name": "#%% md\n"
    }
   },
   "source": [
    "Liste di tipo misto\n",
    "---\n",
    "In Python, una lista può contenere qualsiasi cosa."
   ]
  },
  {
   "cell_type": "code",
   "execution_count": 27,
   "metadata": {
    "pycharm": {
     "name": "#%%\n"
    }
   },
   "outputs": [
    {
     "data": {
      "text/plain": [
       "['apples', 'oranges', 32, 17]"
      ]
     },
     "execution_count": 27,
     "metadata": {},
     "output_type": "execute_result"
    }
   ],
   "source": [
    "stuff = []\n",
    "stuff += ['apples']\n",
    "stuff += ['oranges']\n",
    "stuff += [32]\n",
    "stuff += [17]\n",
    "\n",
    "stuff"
   ]
  },
  {
   "cell_type": "markdown",
   "metadata": {
    "pycharm": {
     "name": "#%% md\n"
    }
   },
   "source": [
    "Anche un'altra lista."
   ]
  },
  {
   "cell_type": "code",
   "execution_count": 28,
   "metadata": {
    "pycharm": {
     "name": "#%%\n"
    }
   },
   "outputs": [
    {
     "data": {
      "text/plain": [
       "['apples', 'oranges', 32, 17, [1, 2, 3, 4]]"
      ]
     },
     "execution_count": 28,
     "metadata": {},
     "output_type": "execute_result"
    }
   ],
   "source": [
    "another_list = [1,2,3,4]\n",
    "stuff += [another_list]\n",
    "\n",
    "stuff"
   ]
  },
  {
   "cell_type": "markdown",
   "metadata": {
    "pycharm": {
     "name": "#%% md\n"
    }
   },
   "source": [
    "Attenzione, è diverso da:"
   ]
  },
  {
   "cell_type": "code",
   "execution_count": 29,
   "metadata": {
    "pycharm": {
     "name": "#%%\n"
    }
   },
   "outputs": [
    {
     "data": {
      "text/plain": [
       "['apples', 'oranges', 32, 17, 1, 2, 3, 4]"
      ]
     },
     "execution_count": 29,
     "metadata": {},
     "output_type": "execute_result"
    }
   ],
   "source": [
    "stuff = ['apples', 'oranges', 32, 17]\n",
    "another_list = [1,2,3,4]\n",
    "stuff += another_list\n",
    "\n",
    "stuff"
   ]
  },
  {
   "cell_type": "markdown",
   "metadata": {
    "pycharm": {
     "name": "#%% md\n"
    }
   },
   "source": [
    "L'ordinamento usa in modo dinamico l'operatore '<', che non è definito su tutte le coppie di tipi."
   ]
  },
  {
   "cell_type": "code",
   "execution_count": 43,
   "metadata": {
    "pycharm": {
     "name": "#%%\n"
    }
   },
   "outputs": [
    {
     "ename": "TypeError",
     "evalue": "'<' not supported between instances of 'int' and 'str'",
     "output_type": "error",
     "traceback": [
      "\u001B[0;31m---------------------------------------------------------------------------\u001B[0m",
      "\u001B[0;31mTypeError\u001B[0m                                 Traceback (most recent call last)",
      "\u001B[0;32m<ipython-input-43-63b76547365d>\u001B[0m in \u001B[0;36m<module>\u001B[0;34m\u001B[0m\n\u001B[0;32m----> 1\u001B[0;31m \u001B[0mprint\u001B[0m\u001B[0;34m(\u001B[0m\u001B[0msorted\u001B[0m\u001B[0;34m(\u001B[0m\u001B[0mstuff\u001B[0m\u001B[0;34m)\u001B[0m\u001B[0;34m)\u001B[0m\u001B[0;34m\u001B[0m\u001B[0m\n\u001B[0m",
      "\u001B[0;31mTypeError\u001B[0m: '<' not supported between instances of 'int' and 'str'"
     ]
    }
   ],
   "source": [
    "print(sorted(stuff))"
   ]
  },
  {
   "cell_type": "markdown",
   "metadata": {
    "pycharm": {
     "name": "#%% md\n"
    }
   },
   "source": [
    "*Slicing*\n",
    "---\n",
    "Python permette l'estrazione di sottoliste (slicing) in modo compatto. "
   ]
  },
  {
   "cell_type": "code",
   "execution_count": 8,
   "metadata": {
    "pycharm": {
     "name": "#%%\n"
    }
   },
   "outputs": [],
   "source": [
    "letters = ['a', 'b', 'c', 'd', 'e', 'f', 'g', 'h']"
   ]
  },
  {
   "cell_type": "code",
   "execution_count": 9,
   "metadata": {
    "pycharm": {
     "name": "#%%\n"
    }
   },
   "outputs": [
    {
     "data": {
      "text/plain": [
       "['a', 'b', 'c']"
      ]
     },
     "execution_count": 9,
     "metadata": {},
     "output_type": "execute_result"
    }
   ],
   "source": [
    "letters[:3]#'le prime 3' / 'fino alla terza (inclusa)'"
   ]
  },
  {
   "cell_type": "code",
   "execution_count": 10,
   "metadata": {
    "pycharm": {
     "name": "#%%\n"
    }
   },
   "outputs": [
    {
     "data": {
      "text/plain": [
       "['d', 'e', 'f', 'g', 'h']"
      ]
     },
     "execution_count": 10,
     "metadata": {},
     "output_type": "execute_result"
    }
   ],
   "source": [
    "letters[3:]#'dalla terza (esclusa) in poi'"
   ]
  },
  {
   "cell_type": "code",
   "execution_count": 11,
   "metadata": {
    "pycharm": {
     "name": "#%%\n"
    }
   },
   "outputs": [
    {
     "data": {
      "text/plain": [
       "['a', 'b', 'c', 'd', 'e', 'f', 'g', 'h']"
      ]
     },
     "execution_count": 11,
     "metadata": {},
     "output_type": "execute_result"
    }
   ],
   "source": [
    "letters[:3] + letters[3:]"
   ]
  },
  {
   "cell_type": "code",
   "execution_count": 12,
   "metadata": {
    "pycharm": {
     "name": "#%%\n"
    }
   },
   "outputs": [
    {
     "data": {
      "text/plain": [
       "['d', 'e', 'f']"
      ]
     },
     "execution_count": 12,
     "metadata": {},
     "output_type": "execute_result"
    }
   ],
   "source": [
    "letters[3:6]"
   ]
  },
  {
   "cell_type": "markdown",
   "metadata": {
    "pycharm": {
     "name": "#%% md\n"
    }
   },
   "source": [
    "*Esercizio 3*\n",
    "---\n",
    "Giocare un po' con le liste e con le operazioni che abbiamo visto:\n",
    "\n",
    "- creare una lista vuota e riempirla\n",
    "- inserirci, modificarne e cancellarne elementi\n",
    "- concatenarla con un'altra lista\n",
    "- aggiungerle un'altra lista\n",
    "- ordinarla in modo naturale e inverso\n",
    "- estrarne delle porzioni e assegnarle a variabili differenti; ricombinarle successivamente.\n",
    "- ..."
   ]
  },
  {
   "cell_type": "code",
   "execution_count": null,
   "outputs": [],
   "source": [],
   "metadata": {
    "collapsed": false,
    "pycharm": {
     "name": "#%%\n"
    }
   }
  },
  {
   "cell_type": "code",
   "execution_count": 14,
   "metadata": {
    "pycharm": {
     "name": "#%%\n"
    }
   },
   "outputs": [
    {
     "name": "stdout",
     "output_type": "stream",
     "text": [
      "stampa la lista a:  ['test', 'ztest', 'test2']\n",
      "rimuovi l'elemento test:  ['ztest', 'test2']\n",
      "concatena ad un'altra lista:  ['ztest', 'test2', 'test0', 'test1']\n",
      "lista ordinata:  ['test0', 'test1', 'test2', 'ztest']\n",
      "lista inversa:  ['ztest', 'test2', 'test1', 'test0']\n"
     ]
    }
   ],
   "source": [
    "#FILL ME\n",
    "a = ['ztest','test2']\n",
    "b = ['test0', 'test1']\n",
    "a.insert(0, 'test')\n",
    "print('stampa la lista a: ',a)\n",
    "a.remove('test')\n",
    "print(\"rimuovi l'elemento test: \",a)\n",
    "a.extend(b)\n",
    "print(\"concatena ad un'altra lista: \",a)\n",
    "a.sort()\n",
    "print(\"lista ordinata: \", a)\n",
    "a.reverse()\n",
    "print(\"lista inversa: \", a)"
   ]
  },
  {
   "cell_type": "markdown",
   "metadata": {
    "pycharm": {
     "name": "#%% md\n"
    }
   },
   "source": [
    "Cicli ***for***\n",
    "===\n",
    "Nella programmazione, un *ciclo* è un costrutto in cui si ripetono delle operazioni.\n",
    "\n",
    "In Python si può accedere in modo ordinato agli elementi di una lista attraverso un ciclo *for*.\n",
    "\n",
    "**Nota**: in Python l'indentazione è obbligatoria: Jupyter lo fa in automatico andando a capo dopo il for."
   ]
  },
  {
   "cell_type": "code",
   "execution_count": 92,
   "metadata": {
    "pycharm": {
     "name": "#%%\n"
    }
   },
   "outputs": [
    {
     "name": "stdout",
     "output_type": "stream",
     "text": [
      "triangle\n",
      "square\n",
      "circle\n",
      "hexagon\n"
     ]
    }
   ],
   "source": [
    "shapes = ['triangle', 'square', 'circle', 'hexagon']\n",
    "\n",
    "for shape in shapes:\n",
    "    print(shape)#codice indentato"
   ]
  },
  {
   "cell_type": "markdown",
   "metadata": {
    "pycharm": {
     "name": "#%% md\n"
    }
   },
   "source": [
    "Nel codice qui sopra, *shape* contiene, ad ogni iterazione del ciclo, un oggetto della lista. E' una variabile, e può avere un nome qualsiasi."
   ]
  },
  {
   "cell_type": "code",
   "execution_count": 94,
   "metadata": {
    "pycharm": {
     "name": "#%%\n"
    }
   },
   "outputs": [
    {
     "name": "stdout",
     "output_type": "stream",
     "text": [
      "triangle\n",
      "square\n",
      "circle\n",
      "hexagon\n"
     ]
    }
   ],
   "source": [
    "shapes = ['triangle', 'square', 'circle', 'hexagon']\n",
    "\n",
    "for x in shapes:\n",
    "    print(x)#codice indentato"
   ]
  },
  {
   "cell_type": "markdown",
   "metadata": {
    "pycharm": {
     "name": "#%% md\n"
    }
   },
   "source": [
    "Enumerazione\n",
    "---\n",
    "Supponiamo di voler conoscere l'indice dell'iterazione corrente. In altre parole, oltre all'elemento, vogliamo conoscere anche la sua posizione nella lista."
   ]
  },
  {
   "cell_type": "code",
   "execution_count": 12,
   "metadata": {
    "pycharm": {
     "name": "#%%\n"
    }
   },
   "outputs": [
    {
     "name": "stdout",
     "output_type": "stream",
     "text": [
      "L'elemento in posizione 0 è triangle\n",
      "L'elemento in posizione 1 è square\n",
      "L'elemento in posizione 2 è circle\n",
      "L'elemento in posizione 3 è hexagon\n"
     ]
    }
   ],
   "source": [
    "shapes = ['triangle', 'square', 'circle', 'hexagon']\n",
    "counter = 0\n",
    "\n",
    "for shape in shapes:\n",
    "    print(\"L'elemento in posizione {} è {}\".format(counter, shape))#uso doppi apici perché stringa contiene '\n",
    "    counter += 1"
   ]
  },
  {
   "cell_type": "markdown",
   "metadata": {
    "pycharm": {
     "name": "#%% md\n"
    }
   },
   "source": [
    "Quanto sopra si può realizzare in modo più compatto grazie alla funzione *enumerate*:\n",
    "\n",
    "        for index, element in enumerate(list):\n",
    "            ..."
   ]
  },
  {
   "cell_type": "code",
   "execution_count": 13,
   "metadata": {
    "pycharm": {
     "name": "#%%\n"
    }
   },
   "outputs": [
    {
     "name": "stdout",
     "output_type": "stream",
     "text": [
      "L'elemento in posizione 0 è triangle\n",
      "L'elemento in posizione 1 è square\n",
      "L'elemento in posizione 2 è circle\n",
      "L'elemento in posizione 3 è hexagon\n"
     ]
    }
   ],
   "source": [
    "shapes = ['triangle', 'square', 'circle', 'hexagon']\n",
    "\n",
    "for counter, shape in enumerate(shapes):#prima indice, poi elemento\n",
    "    print(\"L'elemento in posizione {} è {}\".format(counter, shape))"
   ]
  },
  {
   "cell_type": "markdown",
   "metadata": {
    "pycharm": {
     "name": "#%% md\n"
    }
   },
   "source": [
    "Al solito, *counter* e *shape* sono solo nomi (qualsiasi) di variabile. Il loro ordine è invece obbligatorio!"
   ]
  },
  {
   "cell_type": "code",
   "execution_count": 14,
   "metadata": {
    "pycharm": {
     "name": "#%%\n"
    }
   },
   "outputs": [
    {
     "name": "stdout",
     "output_type": "stream",
     "text": [
      "L'elemento in posizione 0 è triangle\n",
      "L'elemento in posizione 1 è square\n",
      "L'elemento in posizione 2 è circle\n",
      "L'elemento in posizione 3 è hexagon\n"
     ]
    }
   ],
   "source": [
    "shapes = ['triangle', 'square', 'circle', 'hexagon']\n",
    "\n",
    "for i, x in enumerate(shapes):#prima indice, poi elemento\n",
    "    print(\"L'elemento in posizione {} è {}\".format(i, x))"
   ]
  },
  {
   "cell_type": "markdown",
   "metadata": {
    "pycharm": {
     "name": "#%% md\n"
    }
   },
   "source": [
    "**Nota**: tutto quello che è indentato sotto il ciclo for viene eseguito, appunto, dentro il ciclo."
   ]
  },
  {
   "cell_type": "code",
   "execution_count": 13,
   "metadata": {
    "pycharm": {
     "name": "#%%\n"
    }
   },
   "outputs": [
    {
     "name": "stdout",
     "output_type": "stream",
     "text": [
      "L'elemento in posizione 0 è triangle\n",
      "Ciao mamma!\n",
      "L'elemento in posizione 1 è square\n",
      "Ciao mamma!\n",
      "L'elemento in posizione 2 è circle\n",
      "Ciao mamma!\n",
      "L'elemento in posizione 3 è hexagon\n",
      "Ciao mamma!\n"
     ]
    }
   ],
   "source": [
    "a = 'Ciao mamma!'\n",
    "shapes = ['triangle', 'square', 'circle', 'hexagon']\n",
    "\n",
    "for index, element in enumerate(shapes):\n",
    "    print(\"L'elemento in posizione {} è {}\".format(index, element))\n",
    "    print(a)#dentro il ciclo"
   ]
  },
  {
   "cell_type": "code",
   "execution_count": 14,
   "metadata": {
    "pycharm": {
     "name": "#%%\n"
    }
   },
   "outputs": [
    {
     "name": "stdout",
     "output_type": "stream",
     "text": [
      "L'elemento in posizione 0 è triangle\n",
      "L'elemento in posizione 1 è square\n",
      "L'elemento in posizione 2 è circle\n",
      "L'elemento in posizione 3 è hexagon\n",
      "Ciao mamma!\n"
     ]
    }
   ],
   "source": [
    "a = 'Ciao mamma!'\n",
    "shapes = ['triangle', 'square', 'circle', 'hexagon']\n",
    "\n",
    "for index, element in enumerate(shapes):#prima indice, poi elemento\n",
    "    print(\"L'elemento in posizione {} è {}\".format(index, element))\n",
    "\n",
    "print(a)#fuori dal ciclo"
   ]
  },
  {
   "cell_type": "markdown",
   "metadata": {
    "pycharm": {
     "name": "#%% md\n"
    }
   },
   "source": [
    "*Esercizio 4*\n",
    "---\n",
    "\n",
    "- creare una lista di numeri interi, float o misti\n",
    "- iterare sui numeri della lista, stampandoli insieme al loro indice\n",
    "- inserire in una lista di appoggio i quadrati dei numeri della lista\n",
    "- stampare la nuova lista per verificarne contenuto\n",
    "- come buona pratica, commentare il codice"
   ]
  },
  {
   "cell_type": "code",
   "execution_count": 16,
   "metadata": {
    "pycharm": {
     "name": "#%%\n"
    }
   },
   "outputs": [
    {
     "name": "stdout",
     "output_type": "stream",
     "text": [
      "1\n",
      "2\n",
      "3\n",
      "4\n",
      "5\n",
      "[1, 4, 9, 16, 25]\n",
      "100\n"
     ]
    }
   ],
   "source": [
    "#FILL ME\n",
    "n = [1,2,3,4,5]\n",
    "f = [1.0, 2.0,3.0,4.0,5.0]\n",
    "m = [1, 'test', 4.0]\n",
    "la = []\n",
    "for m in n:\n",
    "    print(m)\n",
    "    la.append(m**2)\n",
    "print(la)\n",
    "print(10**2)#operatore 'al quadrato'"
   ]
  },
  {
   "cell_type": "markdown",
   "metadata": {
    "pycharm": {
     "name": "#%% md\n"
    }
   },
   "source": [
    "Comprensioni di liste\n",
    "---\n",
    "Come abbiamo visto nell'esercizio precedente, utilizzare un ciclo per costruire una lista a partire da un'altra è un po' macchinoso."
   ]
  },
  {
   "cell_type": "code",
   "execution_count": 16,
   "metadata": {
    "pycharm": {
     "name": "#%%\n"
    }
   },
   "outputs": [
    {
     "name": "stdout",
     "output_type": "stream",
     "text": [
      "['FRANCESCO', 'ELISA', 'ALESSANDRO', 'GIOVANNI', 'MARIA TERESA']\n"
     ]
    }
   ],
   "source": [
    "names = ['francesco', 'elisa', 'alessandro', 'giovanni', 'maria teresa']\n",
    "capitalized_names = []#lista di appoggio\n",
    "\n",
    "for n in names:\n",
    "    capitalized_names += [n.upper()]#riempo lista di appoggio\n",
    "    \n",
    "print(capitalized_names)"
   ]
  },
  {
   "cell_type": "markdown",
   "metadata": {
    "pycharm": {
     "name": "#%% md\n"
    }
   },
   "source": [
    "Una *comprensione* esegue il ciclo in una riga, iterando sugli elementi della lista:\n",
    "\n",
    "        [f(x) for x in list]  \n",
    "\n",
    "In questo modo è possibile derivare nuove liste da una nota in modo comodo e compatto. E' uno dei costrutti base di Python più eleganti, ed è molto utilizzato."
   ]
  },
  {
   "cell_type": "code",
   "execution_count": 24,
   "metadata": {
    "pycharm": {
     "name": "#%%\n"
    }
   },
   "outputs": [
    {
     "data": {
      "text/plain": [
       "['FRANCESCO', 'ELISA', 'ALESSANDRO', 'GIOVANNI', 'MARIA TERESA']"
      ]
     },
     "execution_count": 24,
     "metadata": {},
     "output_type": "execute_result"
    }
   ],
   "source": [
    "capitalized_names = [n.upper() for n in names]\n",
    "\n",
    "capitalized_names"
   ]
  },
  {
   "cell_type": "code",
   "execution_count": 25,
   "metadata": {
    "pycharm": {
     "name": "#%%\n"
    }
   },
   "outputs": [
    {
     "data": {
      "text/plain": [
       "['F', 'E', 'A', 'G', 'M']"
      ]
     },
     "execution_count": 25,
     "metadata": {},
     "output_type": "execute_result"
    }
   ],
   "source": [
    "capitalized_initials = [n.upper()[0] for n in names]\n",
    "\n",
    "capitalized_initials"
   ]
  },
  {
   "cell_type": "markdown",
   "metadata": {
    "pycharm": {
     "name": "#%% md\n"
    }
   },
   "source": [
    "*Esercizio 5*\n",
    "--\n",
    "Le comprensioni di liste funzionano anche con l'enumerazione, cioè con l'indicizzazione dei singoli elementi:\n",
    "\n",
    "        [f(index, element) for index, element in enumerate(list)]"
   ]
  },
  {
   "cell_type": "code",
   "execution_count": 29,
   "metadata": {
    "pycharm": {
     "name": "#%%\n"
    }
   },
   "outputs": [
    {
     "name": "stdout",
     "output_type": "stream",
     "text": [
      "[[0, 'francesco'], [1, 'elisa'], [2, 'alessandro'], [3, 'giovanni'], [4, 'maria teresa']]\n"
     ]
    }
   ],
   "source": [
    "names = ['francesco', 'elisa', 'alessandro', 'giovanni', 'maria teresa']\n",
    "indexed_names = [[i, n] for i, n in enumerate(names)]\n",
    "\n",
    "print(indexed_names)"
   ]
  },
  {
   "cell_type": "markdown",
   "metadata": {
    "pycharm": {
     "name": "#%% md\n"
    }
   },
   "source": [
    "Ripetere l'enumerazione della cella precedente stampando i nomi in ordine alfabetico (una riga di codice!)."
   ]
  },
  {
   "cell_type": "code",
   "execution_count": 23,
   "metadata": {
    "pycharm": {
     "name": "#%%\n"
    }
   },
   "outputs": [
    {
     "data": {
      "text/plain": [
       "[[0, 'alessandro'],\n",
       " [1, 'elisa'],\n",
       " [2, 'francesco'],\n",
       " [3, 'giovanni'],\n",
       " [4, 'maria teresa']]"
      ]
     },
     "execution_count": 23,
     "metadata": {},
     "output_type": "execute_result"
    }
   ],
   "source": [
    "indexed_sorted_names = [[i,n] for i, n in enumerate(names)] #FILL ME\n",
    "indexed_sorted_names"
   ]
  },
  {
   "cell_type": "markdown",
   "metadata": {
    "pycharm": {
     "name": "#%% md\n"
    }
   },
   "source": [
    "*Esercizio 6*\n",
    "---\n",
    "Ripetere l'esercizio 4 (senza la stampa) utilizzando una comprensione di lista."
   ]
  },
  {
   "cell_type": "code",
   "execution_count": 30,
   "metadata": {
    "pycharm": {
     "name": "#%%\n"
    }
   },
   "outputs": [
    {
     "name": "stdout",
     "output_type": "stream",
     "text": [
      "[(0, 'comodini'), (1, 'tavolo'), (2, 'sedia'), (3, 'letto')]\n"
     ]
    }
   ],
   "source": [
    "objects = ['comodini', 'tavolo', 'sedia', 'letto']\n",
    "comprehension = [n for n in enumerate(objects)]\n",
    "print(comprehension)"
   ]
  },
  {
   "cell_type": "markdown",
   "metadata": {
    "pycharm": {
     "name": "#%% md\n"
    }
   },
   "source": [
    "<script>\n",
    "  $(document).ready(function(){\n",
    "    $('div.back-to-top').hide();\n",
    "    $('nav#menubar').hide();\n",
    "    $('div.prompt').hide();\n",
    "    $('.hidden-print').hide();\n",
    "  });\n",
    "</script>\n",
    "\n",
    "<footer id=\"attribution\" style=\"float:right; color:#999; background:#fff;\">\n",
    "Created with Jupyter, delivered by Fastly, rendered by Rackspace.\n",
    "</footer>"
   ]
  }
 ],
 "metadata": {
  "kernelspec": {
   "display_name": "Python 3",
   "language": "python",
   "name": "python3"
  },
  "language_info": {
   "codemirror_mode": {
    "name": "ipython",
    "version": 3
   },
   "file_extension": ".py",
   "mimetype": "text/x-python",
   "name": "python",
   "nbconvert_exporter": "python",
   "pygments_lexer": "ipython3",
   "version": "3.8.5"
  }
 },
 "nbformat": 4,
 "nbformat_minor": 2
}